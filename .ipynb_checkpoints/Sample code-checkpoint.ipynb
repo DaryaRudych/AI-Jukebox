{
 "cells": [
  {
   "cell_type": "code",
   "execution_count": 1,
   "metadata": {},
   "outputs": [
    {
     "name": "stderr",
     "output_type": "stream",
     "text": [
      "Using TensorFlow backend.\n"
     ]
    }
   ],
   "source": [
    "import sys\n",
    "import glob\n",
    "import pickle\n",
    "import numpy as np\n",
    "import re\n",
    "from datetime import datetime\n",
    "from music21 import converter, note, chord, stream, instrument\n",
    "\n",
    "from keras import optimizers\n",
    "from keras.models import Sequential, load_model\n",
    "from keras.layers import Bidirectional, Dense, Dropout, LSTM, Activation\n",
    "from keras.callbacks import ModelCheckpoint, TensorBoard, History, Callback\n",
    "from keras.utils import np_utils\n",
    "\n",
    "import functions as fxn #make sure you have functions.py file in the same dir"
   ]
  },
  {
   "cell_type": "code",
   "execution_count": null,
   "metadata": {},
   "outputs": [],
   "source": [
    "def full_execution(midi_files, output_tag, total_epochs, batch_size, sequence_length, temperature, offset_adj):\n",
    "    # epoch_stops = 1\n",
    "    # epoch_count = 0\n",
    "    weight_file = None\n",
    "\n",
    "    note_file = fxn.convert_midis_to_notes(midi_files, output_tag)\n",
    "\n",
    "    epochs = total_epochs\n",
    "    with open(note_file, 'rb') as filepath:\n",
    "        notes = pickle.load(filepath)\n",
    "    network_input, network_output, n_patterns, n_vocab, pitchnames = fxn.prepare_sequences(notes, sequence_length)\n",
    "    network_input_r, network_output_r = fxn.reshape_for_training(network_input, network_output,sequence_length)\n",
    "\n",
    "    # while epoch_count <= total_epochs:\n",
    "    #     epochs = epoch_stops\n",
    "    #\n",
    "    model = fxn.create_network(network_input_r, n_vocab, weight_file)\n",
    "    model, weight_file, history = fxn.train_model(model, network_input_r, network_output_r, epochs, batch_size, output_tag, sequence_length)\n",
    "    normalized_input = fxn.reshape_for_creation(network_input, n_patterns, sequence_length, n_vocab)\n",
    "    model = fxn.create_network(normalized_input, n_vocab, weight_file)\n",
    "    prediction_output= fxn.generate_notes(model, network_input, pitchnames,sequence_length, notes_generated, n_vocab, temperature)\n",
    "    output_notes = fxn.create_midi(prediction_output, output_tag, sequence_length, offset_adj)\n",
    "        # epoch_count += epoch_stops\n",
    "    return output_notes, history, weight_file"
   ]
  },
  {
   "cell_type": "code",
   "execution_count": null,
   "metadata": {},
   "outputs": [],
   "source": [
    "timestamp = re.sub(r'[-: ]','',str(datetime.now()).split('.')[0])[:-2]\n",
    "total_epochs = 70\n",
    "batch_size = 128 # 128 for local;\n",
    "sequence_length = 200 # the LSTM RNN will consider this many notes\n",
    "notes_generated = 500 # Change the # of notes generated if you want\n",
    "temperature = 1.0\n",
    "offset_adj = 0.5\n",
    "midi_files = '/Users/anant.a.sharma/Desktop/Darya/AI_for_Music/DATA/Country/*.mid' # Put path to midi folder; use [:max] for number of songs to be used\n",
    "output_name = midi_files.split('/')[-2]\n",
    "output_tag = '/Users/anant.a.sharma/Desktop/Darya/AI_for_Music/DATA/output/{}-{}-'.format(timestamp, output_name) #Put the path for output files\n",
    "\n",
    "terminal_output = output_tag + 'terminal.log'\n",
    "sys.stdout = fxn.Logger(terminal_output)\n",
    "print(\"Terminal output being saved at {}\".format(terminal_output))\n",
    "full_execution(midi_files, output_tag, total_epochs, batch_size, sequence_length, temperature, offset_adj)\n",
    "print(\"Run Complete. Terminal log saved at {}\".format(terminal_output))"
   ]
  }
 ],
 "metadata": {
  "kernelspec": {
   "display_name": "Python 3",
   "language": "python",
   "name": "python3"
  },
  "language_info": {
   "codemirror_mode": {
    "name": "ipython",
    "version": 3
   },
   "file_extension": ".py",
   "mimetype": "text/x-python",
   "name": "python",
   "nbconvert_exporter": "python",
   "pygments_lexer": "ipython3",
   "version": "3.6.7"
  }
 },
 "nbformat": 4,
 "nbformat_minor": 2
}
