{
 "cells": [
  {
   "cell_type": "code",
   "execution_count": 1,
   "metadata": {},
   "outputs": [
    {
     "name": "stderr",
     "output_type": "stream",
     "text": [
      "Using TensorFlow backend.\n"
     ]
    }
   ],
   "source": [
    "import functions as fxn\n"
   ]
  },
  {
   "cell_type": "code",
   "execution_count": 18,
   "metadata": {},
   "outputs": [],
   "source": [
    "import os\n",
    "# os.environ['CUDA_VISIBLE_DEVICES'] = '-1'\n",
    "\n",
    "import sys\n",
    "from datetime import datetime\n",
    "import re\n",
    "import pickle\n",
    "import pandas as pd\n",
    "import matplotlib.pyplot as plt\n",
    "from datetime import datetime\n",
    "import glob\n",
    "import numpy as np\n",
    "\n",
    "from music21 import converter, note, chord, stream, instrument\n",
    "\n",
    "from keras import optimizers\n",
    "from keras.models import Sequential, load_model\n",
    "from keras.layers import Bidirectional, Dense, Dropout, LSTM, Activation\n",
    "from keras.callbacks import ModelCheckpoint, TensorBoard, History, Callback\n",
    "from keras.utils import np_utils"
   ]
  },
  {
   "cell_type": "code",
   "execution_count": 20,
   "metadata": {},
   "outputs": [
    {
     "data": {
      "text/plain": [
       "'/Users/anant.a.sharma/anaconda2/envs/PythonData/bin/python'"
      ]
     },
     "execution_count": 20,
     "metadata": {},
     "output_type": "execute_result"
    }
   ],
   "source": [
    "sys.executable"
   ]
  },
  {
   "cell_type": "code",
   "execution_count": 56,
   "metadata": {},
   "outputs": [],
   "source": [
    "midi_files = '/Users/anant.a.sharma/Desktop/Darya/AI_for_Music/DATA/Indian/*.mid'\n",
    "# midi_files = '/Users/anant.a.sharma/Desktop/Darya/AI_for_Music/DATA/Country/*.midi'\n",
    "\n",
    "timestamp = re.sub(r'[-: ]','',str(datetime.now()).split('.')[0])[:-2]\n",
    "output_name = midi_files.split('/')[-2]\n",
    "\n",
    "output_tag = '/Users/anant.a.sharma/Desktop/Darya/AI_for_Music/DATA/{}-{}-'.format(timestamp, output_name)\n"
   ]
  },
  {
   "cell_type": "code",
   "execution_count": 57,
   "metadata": {},
   "outputs": [
    {
     "data": {
      "text/plain": [
       "'/Users/anant.a.sharma/Desktop/Darya/AI_for_Music/DATA/201901052053-Indian-input_notes'"
      ]
     },
     "execution_count": 57,
     "metadata": {},
     "output_type": "execute_result"
    }
   ],
   "source": [
    "fxn.convert_midis_to_notes(midi_files, output_tag)"
   ]
  },
  {
   "cell_type": "code",
   "execution_count": 58,
   "metadata": {},
   "outputs": [],
   "source": [
    "def weights_to_midi(note_file, sequence_length, weight_file, temperature, offset_adj):\n",
    "    with open(note_file, 'rb') as filepath:\n",
    "        notes = pickle.load(filepath)\n",
    "    network_input, network_output, n_patterns, n_vocab, pitchnames = fxn.prepare_sequences(notes, sequence_length)\n",
    "    normalized_input = fxn.reshape_for_creation(network_input, n_patterns, sequence_length, n_vocab)\n",
    "    model = fxn.create_network(normalized_input, n_vocab, weight_file)\n",
    "    prediction_output= fxn.generate_notes(model, network_input, pitchnames,sequence_length, notes_generated, n_vocab, temperature)\n",
    "    output_notes, midi_file = fxn.create_midi(prediction_output, output_tag, sequence_length, offset_adj)\n",
    "    return output_notes, model, midi_file"
   ]
  },
  {
   "cell_type": "code",
   "execution_count": 59,
   "metadata": {},
   "outputs": [],
   "source": [
    "subfolder = '/Users/anant.a.sharma/Desktop/Darya/AI_for_Music/DATA/'\n",
    "note_file = '/Users/anant.a.sharma/Desktop/Darya/AI_for_Music/DATA/201901052053-Indian-input_notes'\n",
    "sequence_length = 200 # the LSTM RNN will consider this many notes\n",
    "notes_generated = 500\n",
    "output_name = midi_files.split('/')[-2]\n",
    "temperature = 1.0\n",
    "offset_adj = 0.5\n",
    "output_tag = '/Users/anant.a.sharma/Desktop/Darya/AI_for_Music/DATA/{}-{}-'.format(timestamp, output_name)\n",
    "weight_file = subfolder + 'output/201901032134-Ukrainian--last_weights.hdf5'\n",
    "\n",
    "# terminal_output = output_tag + 'terminal.log'\n",
    "# sys.stdout = ut.Logger(terminal_output)\n",
    "# print(\"Terminal output being saved at {}\".format(terminal_output))\n",
    "\n",
    "output_notes, model, midi_file = weights_to_midi(note_file, sequence_length, weight_file, temperature, offset_adj)\n",
    "# print(\"Run Complete. Terminal log saved at {}\".format(terminal_output))"
   ]
  },
  {
   "cell_type": "code",
   "execution_count": 60,
   "metadata": {},
   "outputs": [
    {
     "data": {
      "text/plain": [
       "'/Users/anant.a.sharma/Desktop/Darya/AI_for_Music/DATA/201901052053-Indian-lstm_midi.mid'"
      ]
     },
     "execution_count": 60,
     "metadata": {},
     "output_type": "execute_result"
    }
   ],
   "source": [
    "midi_file"
   ]
  }
 ],
 "metadata": {
  "kernelspec": {
   "display_name": "Python 3",
   "language": "python",
   "name": "python3"
  },
  "language_info": {
   "codemirror_mode": {
    "name": "ipython",
    "version": 3
   },
   "file_extension": ".py",
   "mimetype": "text/x-python",
   "name": "python",
   "nbconvert_exporter": "python",
   "pygments_lexer": "ipython3",
   "version": "3.6.7"
  }
 },
 "nbformat": 4,
 "nbformat_minor": 2
}
